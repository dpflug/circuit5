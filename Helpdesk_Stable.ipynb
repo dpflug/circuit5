{
 "cells": [
  {
   "cell_type": "code",
   "execution_count": 1,
   "metadata": {
    "autoscroll": "json-false",
    "collapsed": true,
    "ein.tags": [
     "worksheet-0"
    ],
    "slideshow": {
     "slide_type": "-"
    }
   },
   "outputs": [],
   "source": [
    "desk_jockeys = [{'name': 'Brandon',\n",
    "                 'county': 'Lake',\n",
    "                 'shift': 'AM'},\n",
    "                {'name': 'David',\n",
    "                 'county': 'Lake',\n",
    "                 'shift': 'PM'},\n",
    "                {'name': 'Brad',\n",
    "                 'county': 'Marion',\n",
    "                 'shift': 'Either'},\n",
    "                {'name': 'Kody',\n",
    "                 'county': 'Marion',\n",
    "                 'shift': 'PM'},\n",
    "                {'name': 'John',\n",
    "                 'county': 'Hernando',\n",
    "                 'shift': 'Either'},\n",
    "                {'name': 'Rick',\n",
    "                 'county': 'Hernando',\n",
    "                 'shift': 'Either'},\n",
    "                {'name': 'Ronan',\n",
    "                 'county': 'Citrus',\n",
    "                 'shift': 'AM'}]\n",
    "\n",
    "def neighbors(i, lst, dist=1):\n",
    "    llen = len(lst)\n",
    "    if llen == 0:\n",
    "        return([])\n",
    "    elif i-dist < 0:\n",
    "        return(lst[llen+i-dist:] + lst[0:i] + lst[i+1:i+1+dist])\n",
    "    elif i+dist >= llen:\n",
    "        return(lst[i-dist:i] + lst[i+1:llen] + lst[0:1+i+dist-llen])\n",
    "    else:\n",
    "        return(lst[i-dist:i] + lst[i+1:i+1+dist])\n",
    "\n",
    "def deviation(lst):\n",
    "    mean = sum(lst)/len(lst)\n",
    "    devsum = 0\n",
    "    for i in lst:\n",
    "        devsum += (i-mean)**2\n",
    "\n",
    "    return(devsum)\n",
    "\n",
    "def eval_func(chromosome):\n",
    "    score = 0.0\n",
    "    for position, jockey in enumerate(chromosome):\n",
    "        if jockey['county'] in [j['county'] for j in neighbors(position, chromosome)]:\n",
    "            # Avoid hitting one county sequentially\n",
    "            score += 0.5\n",
    "        if jockey['name'] in [j['name'] for j in neighbors(position, chromosome, 2)]:\n",
    "            # Don't cause people to have shifts too close to each other\n",
    "            score += 0.4\n",
    "        if jockey['shift'] == 'AM' and position % 2 != 0:\n",
    "            # Honor shift preference\n",
    "            score += 1.0\n",
    "        elif jockey['shift'] == 'PM' and position % 2 == 0:\n",
    "            score += 1.0\n",
    "\n",
    "    return(score)\n"
   ]
  },
  {
   "cell_type": "code",
   "execution_count": 21,
   "metadata": {
    "autoscroll": "json-false",
    "collapsed": true,
    "ein.tags": [
     "worksheet-0"
    ],
    "slideshow": {
     "slide_type": "-"
    }
   },
   "outputs": [],
   "source": [
    "from math import exp\n",
    "from random import random, shuffle\n",
    "def accept_probability(e1, e2, temperature):\n",
    "    if e2 > e1:\n",
    "        #return(exp((e1-e2)/temperature))\n",
    "        return(0.0)\n",
    "    else:\n",
    "        #return(0.8)\n",
    "        return(1.0)\n",
    "\n",
    "def anneal(state, energy, acceptance, kmax=10000000):\n",
    "    wins = {}\n",
    "    for k in range(1,kmax+1):\n",
    "        temperature = kmax/k\n",
    "        if k*10 % kmax == 0:\n",
    "            print(int(100*k/kmax), [j['name'] for j in state], energy(state), temperature)\n",
    "        neighbor = state[:]\n",
    "        shuffle(neighbor)  # Using shuffle() basically defeats the purpose of the annealing.\n",
    "        se = energy(state)\n",
    "        ne = energy(neighbor)\n",
    "        if accept_probability(se,\n",
    "                              ne,\n",
    "                              temperature) >= random():\n",
    "            state = neighbor\n",
    "            if ne == 0 and state not in wins:\n",
    "                wins[state] = True\n",
    "                print([j['name'] for j in state])\n",
    "\n",
    "\n",
    "    return(state, energy(state))\n"
   ]
  },
  {
   "cell_type": "code",
   "execution_count": 22,
   "metadata": {
    "autoscroll": "json-false",
    "collapsed": true,
    "ein.tags": [
     "worksheet-0"
    ],
    "slideshow": {
     "slide_type": "-"
    }
   },
   "outputs": [],
   "source": [
    "#results = anneal(desk_jockeys+desk_jockeys,\n",
    "#                 eval_func,\n",
    "#                 accept_probability)\n",
    "#\n",
    "#print(100, [j['name'] for j in results[0]], results[1])"
   ]
  },
  {
   "cell_type": "code",
   "execution_count": 23,
   "metadata": {
    "autoscroll": "json-false",
    "ein.tags": [
     "worksheet-0"
    ],
    "slideshow": {
     "slide_type": "-"
    }
   },
   "outputs": [
    {
     "ename": "TypeError",
     "evalue": "unhashable type: 'list'",
     "output_type": "error",
     "traceback": [
      "\u001b[0;31m---------------------------------------------------------------------------\u001b[0m",
      "\u001b[0;31mTypeError\u001b[0m                                 Traceback (most recent call last)",
      "\u001b[0;32m<ipython-input-23-a010aa8c9af1>\u001b[0m in \u001b[0;36m<module>\u001b[0;34m()\u001b[0m\n\u001b[1;32m     61\u001b[0m results = anneal(sum_jockeys,\n\u001b[1;32m     62\u001b[0m                  \u001b[0meval_func\u001b[0m\u001b[0;34m,\u001b[0m\u001b[0;34m\u001b[0m\u001b[0m\n\u001b[0;32m---> 63\u001b[0;31m                  accept_probability)\n\u001b[0m\u001b[1;32m     64\u001b[0m \u001b[0;34m\u001b[0m\u001b[0m\n\u001b[1;32m     65\u001b[0m \u001b[0mprint\u001b[0m\u001b[0;34m(\u001b[0m\u001b[0;36m100\u001b[0m\u001b[0;34m,\u001b[0m \u001b[0;34m[\u001b[0m\u001b[0mj\u001b[0m\u001b[0;34m[\u001b[0m\u001b[0;34m'name'\u001b[0m\u001b[0;34m]\u001b[0m \u001b[0;32mfor\u001b[0m \u001b[0mj\u001b[0m \u001b[0;32min\u001b[0m \u001b[0mresults\u001b[0m\u001b[0;34m[\u001b[0m\u001b[0;36m0\u001b[0m\u001b[0;34m]\u001b[0m\u001b[0;34m]\u001b[0m\u001b[0;34m,\u001b[0m \u001b[0mresults\u001b[0m\u001b[0;34m[\u001b[0m\u001b[0;36m1\u001b[0m\u001b[0;34m]\u001b[0m\u001b[0;34m)\u001b[0m\u001b[0;34m\u001b[0m\u001b[0m\n",
      "\u001b[0;32m<ipython-input-21-4a9a76161e1e>\u001b[0m in \u001b[0;36manneal\u001b[0;34m(state, energy, acceptance, kmax)\u001b[0m\n\u001b[1;32m     23\u001b[0m                               temperature) >= random():\n\u001b[1;32m     24\u001b[0m             \u001b[0mstate\u001b[0m \u001b[0;34m=\u001b[0m \u001b[0mneighbor\u001b[0m\u001b[0;34m\u001b[0m\u001b[0m\n\u001b[0;32m---> 25\u001b[0;31m             \u001b[0;32mif\u001b[0m \u001b[0mne\u001b[0m \u001b[0;34m==\u001b[0m \u001b[0;36m0\u001b[0m \u001b[0;32mand\u001b[0m \u001b[0mstate\u001b[0m \u001b[0;32mnot\u001b[0m \u001b[0;32min\u001b[0m \u001b[0mwins\u001b[0m\u001b[0;34m:\u001b[0m\u001b[0;34m\u001b[0m\u001b[0m\n\u001b[0m\u001b[1;32m     26\u001b[0m                 \u001b[0mwins\u001b[0m\u001b[0;34m[\u001b[0m\u001b[0mstate\u001b[0m\u001b[0;34m]\u001b[0m \u001b[0;34m=\u001b[0m \u001b[0;32mTrue\u001b[0m\u001b[0;34m\u001b[0m\u001b[0m\n\u001b[1;32m     27\u001b[0m                 \u001b[0mprint\u001b[0m\u001b[0;34m(\u001b[0m\u001b[0;34m[\u001b[0m\u001b[0mj\u001b[0m\u001b[0;34m[\u001b[0m\u001b[0;34m'name'\u001b[0m\u001b[0;34m]\u001b[0m \u001b[0;32mfor\u001b[0m \u001b[0mj\u001b[0m \u001b[0;32min\u001b[0m \u001b[0mstate\u001b[0m\u001b[0;34m]\u001b[0m\u001b[0;34m)\u001b[0m\u001b[0;34m\u001b[0m\u001b[0m\n",
      "\u001b[0;31mTypeError\u001b[0m: unhashable type: 'list'"
     ]
    }
   ],
   "source": [
    "sum_jockeys = [{'name': 'Brandon',\n",
    "                'county': 'Lake',\n",
    "                'shift': 'AM'},\n",
    "               {'name': 'David',\n",
    "                'county': 'Lake',\n",
    "                'shift': 'PM'},\n",
    "               {'name': 'Jordan',\n",
    "                'county': 'Sumter',\n",
    "                'shift': 'either'},\n",
    "               {'name': 'Kody',\n",
    "                'county': 'Marion',\n",
    "                'shift': 'AM'},\n",
    "               {'name': 'Spencer',\n",
    "                'county': 'Marion',\n",
    "                'shift': 'PM'},\n",
    "               {'name': 'Jordan',\n",
    "                'county': 'Sumter',\n",
    "                'shift': 'either'},\n",
    "               {'name': 'John',\n",
    "                'county': 'Hernando',\n",
    "                'shift': 'PM'},\n",
    "               {'name': 'Rick',\n",
    "                'county': 'Hernando',\n",
    "                'shift': 'AM'},\n",
    "               {'name': 'Jordan',\n",
    "                'county': 'Sumter',\n",
    "                'shift': 'either'},\n",
    "               {'name': 'Ronan',\n",
    "                'county': 'Citrus',\n",
    "                'shift': 'either'}]\n",
    "\n",
    "def sum_eval_func(chromosome):\n",
    "    score = 0.0\n",
    "    for position, jockey in enumerate(chromosome):\n",
    "        if jockey['name'] == 'Jordan':\n",
    "            # Because Sumter is low workload, it gets all the exceptions\n",
    "            # We just need to make sure it doesn't get a full day of shift\n",
    "            if position % 2 == 0 and chromosome[position-1]['name'] == 'Sumter':\n",
    "                score += 0.8\n",
    "            elif position % 2 != 0 and chromosome[position+1]['name'] == 'Sumter':\n",
    "                score += 0.8\n",
    "        ### No longer true: John's back in Hernando\n",
    "        #if jockey['name'] == 'John' and 'Sumter' in [j['county'] for j in neighbors(position, chromosome)]:\n",
    "        #    # John's most often in Sumter lately, so let's avoid doubling up on him\n",
    "        #    score += 0.5\n",
    "        if jockey['county'] in [j['county'] for j in neighbors(position, chromosome)]:\n",
    "            # Avoid hitting one county sequentially\n",
    "            score += 0.5\n",
    "        if jockey['name'] in [j['name'] for j in neighbors(position, chromosome, 2)]:\n",
    "            # Don't cause people to have shifts too close to each other\n",
    "            score += 0.4\n",
    "        if jockey['shift'] == 'AM' and position % 2 != 0:\n",
    "            # Honor shift preference\n",
    "            score += 10.0\n",
    "        elif jockey['shift'] == 'PM' and position % 2 == 0:\n",
    "            score += 10.0\n",
    "\n",
    "    return(score)\n",
    "\n",
    "\n",
    "results = anneal(sum_jockeys,\n",
    "                 eval_func,\n",
    "                 accept_probability)\n",
    "\n",
    "print(100, [j['name'] for j in results[0]], results[1])"
   ]
  },
  {
   "cell_type": "code",
   "execution_count": null,
   "metadata": {
    "autoscroll": "json-false",
    "collapsed": true,
    "ein.tags": [
     "worksheet-0"
    ],
    "slideshow": {
     "slide_type": "-"
    }
   },
   "outputs": [],
   "source": []
  }
 ],
 "metadata": {
  "kernelspec": {
   "display_name": "Python 3",
   "language": "python",
   "name": "python3"
  },
  "language_info": {
   "codemirror_mode": {
    "name": "ipython",
    "version": 3
   },
   "file_extension": ".py",
   "mimetype": "text/x-python",
   "name": "python",
   "nbconvert_exporter": "python",
   "pygments_lexer": "ipython3",
   "version": "3.6.1"
  },
  "name": "Helpdesk_Stable.ipynb"
 },
 "nbformat": 4,
 "nbformat_minor": 1
}
