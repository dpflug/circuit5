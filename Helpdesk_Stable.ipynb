{
 "cells": [
  {
   "cell_type": "code",
   "execution_count": 7,
   "metadata": {
    "autoscroll": "json-false",
    "collapsed": false,
    "ein.tags": [
     "worksheet-0"
    ]
   },
   "outputs": [],
   "source": [
    "desk_jockeys = [{'name': 'Brandon',\n",
    "                 'county': 'Lake',\n",
    "                 'shift': 'AM'},\n",
    "                {'name': 'David',\n",
    "                 'county': 'Lake',\n",
    "                 'shift': 'PM'},\n",
    "                {'name': 'Brad',\n",
    "                 'county': 'Marion',\n",
    "                 'shift': 'AM'},\n",
    "                {'name': 'Kody',\n",
    "                 'county': 'Marion',\n",
    "                 'shift': 'PM'},\n",
    "                {'name': 'John',\n",
    "                 'county': 'Hernando',\n",
    "                 'shift': 'Either'},\n",
    "                {'name': 'Rick',\n",
    "                 'county': 'Hernando',\n",
    "                 'shift': 'Either'},\n",
    "                {'name': 'Ronan',\n",
    "                 'county': 'Citrus',\n",
    "                 'shift': 'AM'}]\n",
    "\n",
    "def neighbors(i, lst, dist=1):\n",
    "        llen = len(lst)\n",
    "        if llen == 0:\n",
    "                return([])\n",
    "        elif i-dist < 0:\n",
    "                return(lst[llen+i-dist:] + lst[0:i] + lst[i+1:i+1+dist])\n",
    "        elif i+dist >= llen:\n",
    "                return(lst[i-dist:i] + lst[i+1:llen] + lst[0:1+i+dist-llen])\n",
    "        else:\n",
    "                return(lst[i-dist:i] + lst[i+1:i+1+dist])\n",
    "\n",
    "def deviation(lst):\n",
    "        mean = sum(lst)/len(lst)\n",
    "        devsum = 0\n",
    "        for i in lst:\n",
    "                devsum += (i-mean)**2\n",
    "\n",
    "        return(devsum)\n",
    "\n",
    "def eval_func(chromosome):\n",
    "        score = 0.0\n",
    "        for position, jockey in enumerate(chromosome):\n",
    "                if jockey['county'] in [j['county'] for j in neighbors(position, chromosome)]:\n",
    "                        # Avoid hitting one county sequentially\n",
    "                        score += 0.5\n",
    "                if jockey['name'] in [j['name'] for j in neighbors(position, chromosome, 2)]:\n",
    "                        score += 0.4\n",
    "                if jockey['shift'] == 'AM' and position % 2 != 0:\n",
    "                        # Honor shift preference\n",
    "                        score += 1.0\n",
    "                elif jockey['shift'] == 'PM' and position % 2 == 0:\n",
    "                        score += 1.0\n",
    "\n",
    "        return(score)\n",
    "\n"
   ]
  },
  {
   "cell_type": "code",
   "execution_count": 8,
   "metadata": {
    "autoscroll": "json-false",
    "collapsed": false,
    "ein.tags": [
     "worksheet-0"
    ]
   },
   "outputs": [
    {
     "name": "stdout",
     "output_type": "stream",
     "text": [
      "100 ['Brad', 'Brandon', 'Rick', 'Ronan', 'John', 'David'] 2.0 1.0\n",
      "100 ['Brad', 'Brandon', 'Rick', 'Ronan', 'John', 'David'] 2.0\n"
     ]
    },
    {
     "name": "stdout",
     "output_type": "stream",
     "text": [
      "90 ['David', 'Rick', 'Brad', 'John', 'Ronan', 'Brandon'] 3.0 1.1111111111111112\n"
     ]
    },
    {
     "name": "stdout",
     "output_type": "stream",
     "text": [
      "80 ['Ronan', 'John', 'Rick', 'David', 'Brad', 'Brandon'] 2.0 1.25\n"
     ]
    },
    {
     "name": "stdout",
     "output_type": "stream",
     "text": [
      "70 ['Brad', 'Ronan', 'Rick', 'Brandon', 'John', 'David'] 2.0 1.4285714285714286\n"
     ]
    },
    {
     "name": "stdout",
     "output_type": "stream",
     "text": [
      "60 ['Rick', 'David', 'John', 'Ronan', 'Brandon', 'Brad'] 2.0 1.6666666666666667\n"
     ]
    },
    {
     "name": "stdout",
     "output_type": "stream",
     "text": [
      "50 ['Rick', 'Ronan', 'David', 'Brad', 'Brandon', 'John'] 4.0 2.0\n"
     ]
    },
    {
     "name": "stdout",
     "output_type": "stream",
     "text": [
      "40 ['John', 'David', 'Brandon', 'Ronan', 'Rick', 'Brad'] 3.0 2.5\n"
     ]
    },
    {
     "name": "stdout",
     "output_type": "stream",
     "text": [
      "30 ['Brad', 'Ronan', 'Rick', 'John', 'Brandon', 'David'] 3.0 3.3333333333333335\n"
     ]
    },
    {
     "name": "stdout",
     "output_type": "stream",
     "text": [
      "20 ['Rick', 'David', 'John', 'Ronan', 'Brad', 'Brandon'] 2.0 5.0\n"
     ]
    },
    {
     "name": "stdout",
     "output_type": "stream",
     "text": [
      "10 ['Rick', 'Brad', 'David', 'Ronan', 'John', 'Brandon'] 4.0 10.0\n"
     ]
    }
   ],
   "source": [
    "from math import exp\n",
    "from random import random, shuffle\n",
    "\n",
    "def accept_probability(e1, e2, temperature):\n",
    "        if e2 > e1:\n",
    "                return(exp((e1-e2)/temperature))\n",
    "        else:\n",
    "                return(0.8)\n",
    "\n",
    "def anneal(state, energy, acceptance, kmax=1000000):\n",
    "        for k in range(1,kmax+1):\n",
    "                temperature = kmax/k\n",
    "                if k*10 % kmax == 0:\n",
    "                        print(int(100*k/kmax), [j['name'] for j in state], energy(state), temperature)\n",
    "                neighbor = state[:]\n",
    "                shuffle(neighbor)\n",
    "                if accept_probability(energy(state),\n",
    "                                      energy(neighbor),\n",
    "                                      temperature) >= random():\n",
    "                        state = neighbor\n",
    "\n",
    "        return(state, energy(state))\n",
    "\n",
    "\n",
    "results = anneal(desk_jockeys,\n",
    "                 eval_func,\n",
    "                 accept_probability)\n",
    "\n",
    "print(100, [j['name'] for j in results[0]], results[1])"
   ]
  }
 ],
 "metadata": {
  "kernelspec": {
   "display_name": "Python 3",
   "name": "python3"
  },
  "language_info": {
   "codemirror_mode": {
    "name": "ipython",
    "version": 3
   },
   "file_extension": ".py",
   "mimetype": "text/x-python",
   "name": "python",
   "nbconvert_exporter": "python",
   "pygments_lexer": "ipython3",
   "version": "3.5.1"
  },
  "name": "Helpdesk_Stable.ipynb"
 },
 "nbformat": 4,
 "nbformat_minor": 0
}
