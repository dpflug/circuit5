{
 "cells": [
  {
   "cell_type": "markdown",
   "metadata": {
    "ein.tags": [
     "worksheet-0"
    ]
   },
   "source": [
    "# Helpdesk Scheduling\n",
    "\n",
    "We're trying to come up with a scheduling method for the Helpdesk.\n",
    "\n",
    "Ruby people might do TDD. I'm going to do NDD (Notebook Driven Development). This document is more or less a stream-of-consciousness of my development process.\n",
    "\n",
    "First off, we need people to man it."
   ]
  },
  {
   "cell_type": "code",
   "execution_count": 1,
   "metadata": {
    "autoscroll": "json-false",
    "collapsed": false,
    "ein.tags": [
     "worksheet-0"
    ]
   },
   "outputs": [],
   "source": [
    "desk_jockeys = ['Brandon', 'David', 'Brad', 'Kody', 'John', 'Rick', 'Ronan']"
   ]
  },
  {
   "cell_type": "markdown",
   "metadata": {
    "ein.tags": [
     "worksheet-0"
    ]
   },
   "source": [
    "We have 2 shifts per day, AM and PM. We need to choose 2 people from the list to do so."
   ]
  },
  {
   "cell_type": "code",
   "execution_count": 2,
   "metadata": {
    "autoscroll": "json-false",
    "collapsed": false,
    "ein.tags": [
     "worksheet-0"
    ]
   },
   "outputs": [
    {
     "name": "stdout",
     "output_type": "stream",
     "text": [
      "('Brandon', 'David')\n",
      "('Brandon', 'David')\n",
      "('Brandon', 'David')\n"
     ]
    }
   ],
   "source": [
    "def pick_shifts(jockeys):\n",
    "    return jockeys[0], jockeys[1]\n",
    "\n",
    "for x in range(3):\n",
    "    print(pick_shifts(desk_jockeys))"
   ]
  },
  {
   "cell_type": "markdown",
   "metadata": {
    "ein.tags": [
     "worksheet-0"
    ]
   },
   "source": [
    "Well that's not fair. It's always the same 2 guys! We should make sure everyone gets a turn!"
   ]
  },
  {
   "cell_type": "code",
   "execution_count": 3,
   "metadata": {
    "autoscroll": "json-false",
    "collapsed": false,
    "ein.tags": [
     "worksheet-0"
    ]
   },
   "outputs": [
    {
     "name": "stdout",
     "output_type": "stream",
     "text": [
      "('Brandon', 'David')\n",
      "('Brad', 'Kody')\n",
      "('John', 'Rick')\n"
     ]
    }
   ],
   "source": [
    "def pick_shifts(jockeys):\n",
    "    j1 = jockeys.pop(0)\n",
    "    j2 = jockeys.pop(0)\n",
    "    jockeys.append(j1)\n",
    "    jockeys.append(j2)\n",
    "    return j1, j2\n",
    "\n",
    "for x in range(3):\n",
    "    print(pick_shifts(desk_jockeys))"
   ]
  },
  {
   "cell_type": "markdown",
   "metadata": {
    "ein.tags": [
     "worksheet-0"
    ]
   },
   "source": [
    "Ok, that's a little better. But, now we've got county overlap. Brandon and David are in the same county. They shouldn't both work the same day. Sooo, things are going to get a little complex. By necessity, though. Let's see if we can keep it from becoming [complicated](https://www.python.org/dev/peps/pep-0020/). I'll try and take it by steps to avoid a [How to Draw an Owl](https://i.imgur.com/rCr9A.png) situation.\n",
    "\n",
    "First off, since we're going to need to keep track of several values in relation to our jockeys, let's go to class."
   ]
  },
  {
   "cell_type": "code",
   "execution_count": 4,
   "metadata": {
    "autoscroll": "json-false",
    "collapsed": false,
    "ein.tags": [
     "worksheet-0"
    ]
   },
   "outputs": [],
   "source": [
    "class DeskJockey():\n",
    "    def __init__(self, name, county):\n",
    "        self.name = name\n",
    "        self.county = county\n",
    "        self.shifts_worked = 0\n",
    "\n",
    "    def work(self):\n",
    "        self.shifts_worked += 1\n",
    "\n",
    "    def can_work_with(self, coworker):\n",
    "        if coworker.county == self.county:\n",
    "            return False\n",
    "        else:\n",
    "            return True\n",
    "\n",
    "    # For those unacquainted with Python, the following 2 methods\n",
    "    # just change how the objects appear when converted to strings.\n",
    "    def __str__(self):\n",
    "        return(self.name)\n",
    "\n",
    "    def __repr__(self):\n",
    "        return(\"<\" + self.__str__() + \">\")"
   ]
  },
  {
   "cell_type": "markdown",
   "metadata": {
    "ein.tags": [
     "worksheet-0"
    ]
   },
   "source": [
    "Now, let's "
   ]
  },
  {
   "cell_type": "code",
   "execution_count": 5,
   "metadata": {
    "autoscroll": "json-false",
    "collapsed": false,
    "ein.tags": [
     "worksheet-0"
    ]
   },
   "outputs": [
    {
     "name": "stdout",
     "output_type": "stream",
     "text": [
      "False\n",
      "False\n",
      "True\n"
     ]
    }
   ],
   "source": [
    "brandon = DeskJockey('Brandon', 'Lake')\n",
    "david = DeskJockey('David', 'Lake')\n",
    "brad = DeskJockey('Brad', 'Marion')\n",
    "kody = DeskJockey('Kody', 'Marion')\n",
    "john = DeskJockey('John', 'Hernando')\n",
    "rick = DeskJockey('Rick', 'Hernando')\n",
    "ronan = DeskJockey('Ronan', 'Citrus')\n",
    "\n",
    "print(brandon.can_work_with(david))\n",
    "print(david.can_work_with(david))\n",
    "print(brad.can_work_with(david))"
   ]
  },
  {
   "cell_type": "markdown",
   "metadata": {
    "ein.tags": [
     "worksheet-0"
    ]
   },
   "source": [
    "Now, we'll need to sort our list by our jockeys' number of shifts, then try combinations until we find one that works."
   ]
  },
  {
   "cell_type": "code",
   "execution_count": 6,
   "metadata": {
    "autoscroll": "json-false",
    "collapsed": false,
    "ein.tags": [
     "worksheet-0"
    ]
   },
   "outputs": [
    {
     "name": "stdout",
     "output_type": "stream",
     "text": [
      "[<Brandon>, <Brad>]\n",
      "[<David>, <Kody>]\n",
      "[<John>, <Ronan>]\n"
     ]
    }
   ],
   "source": [
    "desk_jockeys = sorted([brandon, david, brad, kody, john, rick, ronan], key=lambda jockey: jockey.shifts_worked)\n",
    "\n",
    "def schedule_day(jockeys):\n",
    "    '''Pick a pair of workers for a day\n",
    "    Given a list of jockeys, find a pair that can work in a given day.\n",
    "    \n",
    "    Does so by looping over the list, one by one, and finding out if there are any eligible partners for that candidate.\n",
    "    If we reach the end of the list, no one will work that day.\n",
    "    '''\n",
    "    to_check = jockeys+[]  # Force this to be a new list\n",
    "    while to_check:\n",
    "        first_candidate = to_check.pop(0)\n",
    "        for second_candidate in jockeys:\n",
    "            if first_candidate.can_work_with(second_candidate):\n",
    "                first_candidate.work()\n",
    "                second_candidate.work()\n",
    "                desk_jockeys.sort(key=lambda jockey: jockey.shifts_worked)\n",
    "                return([first_candidate, second_candidate])\n",
    "\n",
    "    return(None)\n",
    "\n",
    "for day in range(3):\n",
    "    print(schedule_day(desk_jockeys))"
   ]
  },
  {
   "cell_type": "markdown",
   "metadata": {
    "ein.tags": [
     "worksheet-0"
    ]
   },
   "source": [
    "Well that could be done cleaner, but it gets us there. Make it work before you make it pretty. Let's test our shift counter."
   ]
  },
  {
   "cell_type": "code",
   "execution_count": 7,
   "metadata": {
    "autoscroll": "json-false",
    "collapsed": false,
    "ein.tags": [
     "worksheet-0"
    ]
   },
   "outputs": [
    {
     "name": "stdout",
     "output_type": "stream",
     "text": [
      "Rick 0\n",
      "John 1\n",
      "Ronan 1\n",
      "David 1\n",
      "Kody 1\n",
      "Brandon 1\n",
      "Brad 1\n",
      "**100 days later**\n",
      "John 29\n",
      "Kody 29\n",
      "Brandon 29\n",
      "Brad 29\n",
      "Rick 30\n",
      "David 30\n",
      "Ronan 30\n"
     ]
    }
   ],
   "source": [
    "for jockey in desk_jockeys:\n",
    "    print(jockey.name, jockey.shifts_worked)\n",
    "\n",
    "print(\"**100 days later**\")\n",
    "\n",
    "for day in range(100):\n",
    "    schedule_day(desk_jockeys)\n",
    "\n",
    "for jockey in desk_jockeys:\n",
    "    print(jockey.name, jockey.shifts_worked)"
   ]
  },
  {
   "cell_type": "markdown",
   "metadata": {
    "ein.tags": [
     "worksheet-0"
    ]
   },
   "source": [
    "Ok, one last thing. Some of us have earlier/later shifts and need our desk assignment to match. So, let's add that to my class."
   ]
  },
  {
   "cell_type": "code",
   "execution_count": 8,
   "metadata": {
    "autoscroll": "json-false",
    "collapsed": false,
    "ein.tags": [
     "worksheet-0"
    ]
   },
   "outputs": [],
   "source": [
    "class DeskJockeyWithShifts(DeskJockey):\n",
    "    def __init__(self, name, county, shift=\"8-5\"):\n",
    "        self.shift = shift\n",
    "        super(DeskJockeyWithShifts, self).__init__(name, county)"
   ]
  },
  {
   "cell_type": "markdown",
   "metadata": {
    "ein.tags": [
     "worksheet-0"
    ]
   },
   "source": [
    "And add that data to our jockeys."
   ]
  },
  {
   "cell_type": "code",
   "execution_count": 9,
   "metadata": {
    "autoscroll": "json-false",
    "collapsed": false,
    "ein.tags": [
     "worksheet-0"
    ]
   },
   "outputs": [],
   "source": [
    "shifts = {'David': 'PM', 'Brandon': 'AM'}\n",
    "\n",
    "for i, jockey in enumerate(desk_jockeys):\n",
    "    desk_jockeys[i] = DeskJockeyWithShifts(jockey.name, jockey.county, shifts.get(jockey.name, '8-5'))"
   ]
  },
  {
   "cell_type": "markdown",
   "metadata": {
    "ein.tags": [
     "worksheet-0"
    ]
   },
   "source": [
    "And finally update our scheduler to handle shifts."
   ]
  },
  {
   "cell_type": "code",
   "execution_count": 10,
   "metadata": {
    "autoscroll": "json-false",
    "collapsed": false,
    "ein.tags": [
     "worksheet-0"
    ]
   },
   "outputs": [
    {
     "name": "stdout",
     "output_type": "stream",
     "text": [
      "Shift assignments:\n",
      "John: 8-5\n",
      "Kody: 8-5\n",
      "Brandon: AM\n",
      "Brad: 8-5\n",
      "Rick: 8-5\n",
      "David: PM\n",
      "Ronan: 8-5\n",
      "\n",
      "Desk schedule:\n",
      "0 [<John>, <Kody>]\n",
      "1 [<Brandon>, <Brad>]\n",
      "2 [<Rick>, <David>]\n"
     ]
    }
   ],
   "source": [
    "def schedule_day(jockeys):\n",
    "    '''Pick a pair of workers for a day\n",
    "    Given a list of jockeys, find a pair that can work in a given day.\n",
    "    \n",
    "    Does so by looping over the list, one by one, and finding out if there are any eligible partners for that candidate.\n",
    "    If we reach the end of the list, no one will work that day.\n",
    "    '''\n",
    "    to_check = jockeys+[]  # Force this to be a new list\n",
    "    while to_check:\n",
    "        first_candidate = to_check.pop(0)\n",
    "        while first_candidate.shift == 'PM':\n",
    "            if to_check:\n",
    "                first_candidate = to_check.pop(0)\n",
    "            else:  # No one left to check\n",
    "                return(None)\n",
    "        for second_candidate in jockeys:\n",
    "            if first_candidate.can_work_with(second_candidate) and second_candidate.shift != 'AM':\n",
    "                first_candidate.work()\n",
    "                second_candidate.work()\n",
    "                desk_jockeys.sort(key=lambda jockey: jockey.shifts_worked)\n",
    "                return([first_candidate, second_candidate])\n",
    "\n",
    "    return(None)\n",
    "\n",
    "print(\"Shift assignments:\")\n",
    "for jockey in desk_jockeys:\n",
    "    print(\"%s: %s\" % (jockey.name, jockey.shift))\n",
    "\n",
    "print(\"\\nDesk schedule:\")\n",
    "for day in range(3):\n",
    "    print(day, schedule_day(desk_jockeys))"
   ]
  },
  {
   "cell_type": "markdown",
   "metadata": {
    "ein.tags": [
     "worksheet-0"
    ]
   },
   "source": [
    "Looks good to me! Ship it!\n",
    "\n",
    "> But I need to be able to take days off! Also, weekends?\n",
    "\n",
    "Oh, right... Ok. Well, let's refactor a bit. I'm going to shortcut weekend handling because I don't feel like writing a bunch of calendar code or going to find a library for it. This can be updated monthly until it seems profitable to refactor."
   ]
  },
  {
   "cell_type": "code",
   "execution_count": 11,
   "metadata": {
    "autoscroll": "json-false",
    "collapsed": false,
    "ein.tags": [
     "worksheet-0"
    ]
   },
   "outputs": [],
   "source": [
    "weekends = {5, 6, 12, 13, 19, 20, 26, 27}\n",
    "\n",
    "class DeskJockeyWithTimeOff(DeskJockeyWithShifts):\n",
    "    def __init__(self, name, county, shift='8-5', days_off=weekends):\n",
    "        self.days_off = days_off\n",
    "        super(DeskJockeyWithTimeOff, self).__init__(name, county, shift)\n",
    "\n",
    "    def can_work(self, day, shift, partner=None):\n",
    "        if day in self.days_off:\n",
    "            return False\n",
    "        elif partner and self.county == partner.county:\n",
    "            return False\n",
    "        elif self.shift == '8-5' or self.shift == shift:\n",
    "            return True\n",
    "        else:\n",
    "            # Don't know how you got here. :)\n",
    "            return False"
   ]
  },
  {
   "cell_type": "markdown",
   "metadata": {
    "ein.tags": [
     "worksheet-0"
    ]
   },
   "source": [
    "Alright, let's rewrite our jockeys list with our new class. We'll use a [list comprehension](https://docs.python.org/2/tutorial/datastructures.html#list-comprehensions) to recreate our list of jockeys, as it's more Pythonic."
   ]
  },
  {
   "cell_type": "code",
   "execution_count": 12,
   "metadata": {
    "autoscroll": "json-false",
    "collapsed": false,
    "ein.tags": [
     "worksheet-0"
    ]
   },
   "outputs": [
    {
     "name": "stdout",
     "output_type": "stream",
     "text": [
      "Ronan: 8-5 - {1, 5, 6, 9, 12, 13, 19, 20, 26, 27}\n",
      "Rick: 8-5 - {5, 6, 8, 10, 12, 13, 19, 20, 26, 27}\n",
      "David: PM - {2, 5, 6, 12, 13, 19, 20, 26, 27}\n",
      "Brandon: AM - {3, 5, 6, 12, 13, 19, 20, 26, 27}\n",
      "Brad: 8-5 - {4, 5, 6, 12, 13, 19, 20, 26, 27}\n",
      "John: 8-5 - {1, 2, 5, 6, 12, 13, 19, 20, 26, 27}\n",
      "Kody: 8-5 - {5, 6, 8, 12, 13, 19, 20, 26, 27}\n"
     ]
    }
   ],
   "source": [
    "from random import randint  # To simulate random days off\n",
    "\n",
    "shifts = {'Brandon': 'AM', 'David': 'PM'}\n",
    "\n",
    "desk_jockeys = [DeskJockeyWithTimeOff(jockey.name,\n",
    "                                      jockey.county,\n",
    "                                      shifts.get(jockey.name, '8-5'),\n",
    "                                      weekends.union({randint(1, 10), randint(1, 10)}))\n",
    "                for jockey\n",
    "                in desk_jockeys]\n",
    "\n",
    "for jockey in desk_jockeys:\n",
    "    print(\"%s: %s - %s\" % (jockey.name, jockey.shift, jockey.days_off))"
   ]
  },
  {
   "cell_type": "markdown",
   "metadata": {
    "ein.tags": [
     "worksheet-0"
    ]
   },
   "source": [
    "And rewrite our scheduler to take days into account."
   ]
  },
  {
   "cell_type": "code",
   "execution_count": 13,
   "metadata": {
    "autoscroll": "json-false",
    "collapsed": false,
    "ein.tags": [
     "worksheet-0"
    ]
   },
   "outputs": [
    {
     "name": "stdout",
     "output_type": "stream",
     "text": [
      "Schedule:\n",
      "[<Ronan>, <Rick>]\n",
      "[<Brad>, <David>]\n",
      "[<Kody>, <Brandon>]\n",
      "[<John>, <Brandon>]\n",
      "[<John>, <Kody>]\n",
      "None\n",
      "None\n",
      "[<Brad>, <David>]\n",
      "[<Ronan>, <Rick>]\n",
      "[<Rick>, <Ronan>]\n",
      "\n",
      "Number of shifts worked:\n",
      "David: 2, Brad: 2, John: 2, Kody: 2, Brandon: 2, Ronan: 3, Rick: 3\n"
     ]
    }
   ],
   "source": [
    "def schedule_day(jockeys, day):\n",
    "    '''Pick a pair of workers for a day\n",
    "    Given a list of jockeys and a day of the month, find a pair that can work on that day.\n",
    "    \n",
    "    Does so by looping over the list, one by one, and finding out if there are any eligible partners for that candidate.\n",
    "    If we reach the end of the list, no one will work that day.\n",
    "    '''\n",
    "    to_check = jockeys+[]  # dereference\n",
    "    while to_check:\n",
    "        first_candidate = to_check.pop(0)\n",
    "        while not first_candidate.can_work(day, 'AM'):\n",
    "            if to_check:\n",
    "                first_candidate = to_check.pop(0)\n",
    "            else:  # No one left to check\n",
    "                return(None)\n",
    "        for second_candidate in jockeys:\n",
    "            if first_candidate.can_work(day, 'PM', second_candidate):\n",
    "                first_candidate.work()\n",
    "                second_candidate.work()\n",
    "                desk_jockeys.sort(key=lambda jockey: jockey.shifts_worked)\n",
    "                return([first_candidate, second_candidate])\n",
    "\n",
    "    return(None)\n",
    "\n",
    "print('Schedule:')\n",
    "for day in range(10):\n",
    "    print(schedule_day(desk_jockeys, day))\n",
    "\n",
    "print('\\nNumber of shifts worked:')\n",
    "print(', '.join('%s: %s' % (jockey.name, jockey.shifts_worked) for jockey in desk_jockeys))"
   ]
  },
  {
   "cell_type": "markdown",
   "metadata": {
    "ein.tags": [
     "worksheet-0"
    ]
   },
   "source": [
    "Well, that's favoring people who just worked. Let's see what I can do about that."
   ]
  },
  {
   "cell_type": "code",
   "execution_count": 14,
   "metadata": {
    "autoscroll": "json-false",
    "collapsed": false,
    "ein.tags": [
     "worksheet-0"
    ]
   },
   "outputs": [
    {
     "name": "stdout",
     "output_type": "stream",
     "text": [
      "Schedule:\n",
      "[<Brad>, <David>]\n",
      "[<Kody>, <Rick>]\n",
      "[<Brandon>, <Ronan>]\n",
      "[<John>, <Brad>]\n",
      "[<Kody>, <David>]\n",
      "None\n",
      "None\n",
      "[<Brandon>, <John>]\n",
      "[<Ronan>, <Brad>]\n",
      "[<Rick>, <Kody>]\n",
      "\n",
      "Number of shifts worked:\n",
      "David: 4, Brandon: 4, John: 4, Ronan: 5, Brad: 5, Rick: 5, Kody: 5\n"
     ]
    }
   ],
   "source": [
    "def schedule_day(jockeys, day):\n",
    "    '''Pick a pair of workers for a day\n",
    "    Given a list of jockeys and a day of the month, find a pair that can work on that day.\n",
    "    \n",
    "    Does so by looping over the list, one by one, and finding out if there are any eligible partners for that candidate.\n",
    "    If we reach the end of the list, no one will work that day.\n",
    "    '''\n",
    "    to_check = jockeys+[]  # dereference\n",
    "    while to_check:\n",
    "        first_candidate = to_check.pop(0)\n",
    "        while not first_candidate.can_work(day, 'AM'):\n",
    "            if to_check:\n",
    "                first_candidate = to_check.pop(0)\n",
    "            else:  # No one left to check\n",
    "                return(None)\n",
    "        for second_candidate in jockeys:\n",
    "            if second_candidate.can_work(day, 'PM', first_candidate):\n",
    "                first_candidate.work()\n",
    "                second_candidate.work()\n",
    "                desk_jockeys.sort(key=lambda jockey: jockey.shifts_worked)\n",
    "                # Let's try to prevent our candidates getting picked tomorrow\n",
    "                desk_jockeys.append(desk_jockeys.pop(desk_jockeys.index(first_candidate)))\n",
    "                desk_jockeys.append(desk_jockeys.pop(desk_jockeys.index(second_candidate)))\n",
    "                return([first_candidate, second_candidate])\n",
    "\n",
    "    return(None)\n",
    "\n",
    "print('Schedule:')\n",
    "for day in range(10):\n",
    "    print(schedule_day(desk_jockeys, day))\n",
    "\n",
    "print('\\nNumber of shifts worked:')\n",
    "print(', '.join('%s: %s' % (jockey.name, jockey.shifts_worked) for jockey in desk_jockeys))"
   ]
  },
  {
   "cell_type": "markdown",
   "metadata": {
    "ein.tags": [
     "worksheet-0"
    ]
   },
   "source": [
    "Alright alright! That's pretty much what we want, I think. Let's just prettify the output a bit."
   ]
  },
  {
   "cell_type": "code",
   "execution_count": 15,
   "metadata": {
    "autoscroll": "json-false",
    "collapsed": false,
    "ein.tags": [
     "worksheet-0"
    ]
   },
   "outputs": [
    {
     "name": "stdout",
     "output_type": "stream",
     "text": [
      "Schedule:\n",
      "Day\tAM\tPM\n",
      "0\tBrandon\tJohn\n",
      "1\tBrad\tDavid\n",
      "2\tRonan\tRick\n",
      "3\tKody\tJohn\n",
      "4\tBrandon\tRonan\n",
      "NONE\n",
      "NONE\n",
      "7\tBrad\tDavid\n",
      "8\tJohn\tRonan\n",
      "9\tRick\tKody\n",
      "\n",
      "Number of shifts worked:\n",
      "Brandon: 6, David: 6, Brad: 7, John: 7, Ronan: 8, Rick: 7, Kody: 7\n"
     ]
    }
   ],
   "source": [
    "print('Schedule:\\nDay\\tAM\\tPM')\n",
    "\n",
    "for day in range(10):\n",
    "    workpair = schedule_day(desk_jockeys, day)\n",
    "    if workpair is None:\n",
    "        print(\"NONE\")\n",
    "    else:\n",
    "        print(\"%s\\t%s\\t%s\" % (day, workpair[0], workpair[1]))\n",
    "\n",
    "print('\\nNumber of shifts worked:')\n",
    "print(', '.join('%s: %s' % (jockey.name, jockey.shifts_worked) for jockey in desk_jockeys))"
   ]
  },
  {
   "cell_type": "markdown",
   "metadata": {
    "ein.tags": [
     "worksheet-0"
    ]
   },
   "source": [
    "So, let's clean this up, get a final version. I don't know about you, but I feel like DeskJockeyWithWhatever is a bit wordy. We're not writing Java here!\n",
    "\n",
    "# tl;dr:"
   ]
  },
  {
   "cell_type": "code",
   "execution_count": 16,
   "metadata": {
    "autoscroll": "json-false",
    "collapsed": false,
    "ein.tags": [
     "worksheet-0"
    ]
   },
   "outputs": [],
   "source": [
    "from random import randint\n",
    "\n",
    "class DeskJockey():\n",
    "    def __init__(self, name, county, shift='8-5', days_off=weekends):\n",
    "        self.name = name\n",
    "        self.county = county\n",
    "        self.shift = shift\n",
    "        self.days_off = weekends.union({})  # dereference\n",
    "        self.shifts_worked = 0\n",
    "\n",
    "    def can_work(self, day, shift, partner=None):\n",
    "        if day in self.days_off:\n",
    "            return False\n",
    "        elif partner and self.county == partner.county:\n",
    "            return False\n",
    "        elif self.shift == '8-5' or self.shift == shift:\n",
    "            return True\n",
    "        else:\n",
    "            # Don't know how you got here. :)\n",
    "            return False\n",
    "    \n",
    "    def take_days_off(self, days):\n",
    "        self.days_off = self.days_off.union(days)\n",
    "    \n",
    "    def work(self):\n",
    "        self.shifts_worked += 1\n",
    "\n",
    "    def __str__(self):\n",
    "        return(self.name)\n",
    "    \n",
    "    def __repr__(self):\n",
    "        return(\"<\" + self.__str__() + \">\")\n",
    "    \n",
    "\n",
    "def schedule_day(jockeys, day):\n",
    "    '''Pick a pair of workers for a day\n",
    "    Given a list of jockeys and a day of the month, find a pair that can work on that day.\n",
    "    \n",
    "    Does so by looping over the list, one by one, and finding out if there are any eligible partners for that candidate.\n",
    "    If we reach the end of the list, no one will work that day.\n",
    "    '''\n",
    "    to_check = jockeys+[]  # dereference\n",
    "    pairing = None\n",
    "    while to_check and not pairing:\n",
    "        am_candidate = to_check.pop(0)\n",
    "        while not am_candidate.can_work(day, 'AM'):\n",
    "            if to_check:\n",
    "                am_candidate = to_check.pop(0)\n",
    "            else:  # No one left to check\n",
    "                return(None)\n",
    "        for pm_candidate in jockeys:\n",
    "            if pm_candidate.can_work(day, 'PM', am_candidate):\n",
    "                am_candidate.work()\n",
    "                pm_candidate.work()\n",
    "                desk_jockeys.sort(key=lambda jockey: jockey.shifts_worked)\n",
    "                # Let's ensure our candidates don't get picked tomorrow\n",
    "                desk_jockeys.append(desk_jockeys.pop(desk_jockeys.index(am_candidate)))\n",
    "                desk_jockeys.append(desk_jockeys.pop(desk_jockeys.index(pm_candidate)))\n",
    "                return([am_candidate, pm_candidate])\n",
    "\n",
    "    return(None)"
   ]
  },
  {
   "cell_type": "markdown",
   "metadata": {
    "ein.tags": [
     "worksheet-0"
    ]
   },
   "source": [
    "That looks like it'll work! Let's go ahead and create a schedule for April."
   ]
  },
  {
   "cell_type": "code",
   "execution_count": 24,
   "metadata": {
    "autoscroll": "json-false",
    "collapsed": false,
    "ein.tags": [
     "worksheet-0"
    ]
   },
   "outputs": [
    {
     "name": "stdout",
     "output_type": "stream",
     "text": [
      "Start state:\n",
      "Name\tCounty\tShift\tDays off\n",
      "Brandon\tLake\tAM\t{2, 3, 6, 9, 10, 15, 16, 17, 21, 23, 24}\n",
      "David\tLake\tPM\t{1, 2, 3, 9, 10, 16, 17, 18, 20, 23, 24}\n",
      "Brad\tMarion\tAM\t{2, 3, 9, 10, 14, 16, 17, 23, 24}\n",
      "Kody\tMarion\tPM\t{2, 3, 9, 10, 16, 17, 20, 23, 24, 28}\n",
      "John\tHernand\t8-5\t{2, 3, 9, 10, 12, 16, 17, 21, 23, 24, 28}\n",
      "Rick\tHernand\t8-5\t{2, 3, 9, 10, 16, 17, 22, 23, 24}\n",
      "Ronan\tCitrus\t8-5\t{2, 3, 9, 10, 15, 16, 17, 23, 24}\n",
      "\n",
      "\n",
      "April Schedule:\n",
      "1\tBrandon\tKody\n",
      "NONE\n",
      "NONE\n",
      "4\tBrad\tDavid\n",
      "5\tJohn\tRonan\n",
      "6\tRick\tKody\n",
      "7\tBrandon\tJohn\n",
      "8\tBrad\tDavid\n",
      "NONE\n",
      "NONE\n",
      "11\tRonan\tRick\n",
      "12\tBrandon\tKody\n",
      "13\tJohn\tDavid\n",
      "14\tRonan\tRick\n",
      "15\tBrad\tJohn\n",
      "NONE\n",
      "NONE\n",
      "18\tBrandon\tKody\n",
      "19\tRonan\tDavid\n",
      "20\tRick\tRonan\n",
      "21\tBrad\tDavid\n",
      "22\tJohn\tKody\n",
      "NONE\n",
      "NONE\n",
      "25\tBrandon\tRick\n",
      "26\tBrad\tRonan\n",
      "27\tJohn\tDavid\n",
      "28\tBrandon\tRick\n",
      "29\tBrad\tRonan\n",
      "30\tJohn\tKody\n",
      "\n",
      "Number of shifts worked:\n",
      "David: 6, Brandon: 6, Rick: 6, Brad: 6, Ronan: 7, John: 7, Kody: 6\n"
     ]
    }
   ],
   "source": [
    "# Let's do April\n",
    "weekends = {2, 3, 9, 10, 16, 17, 23, 24}\n",
    "\n",
    "desk_jockeys = [DeskJockey(name='Brandon',\n",
    "                          county='Lake',\n",
    "                          shift='AM'),\n",
    "                DeskJockey('David',\n",
    "                          'Lake',\n",
    "                          'PM'),\n",
    "                DeskJockey('Brad',\n",
    "                          'Marion',\n",
    "                          'AM'),\n",
    "                DeskJockey('Kody',\n",
    "                          'Marion',\n",
    "                          'PM'),\n",
    "                DeskJockey('John',\n",
    "                          'Hernando'),\n",
    "                DeskJockey('Rick',\n",
    "                          'Hernando'),\n",
    "                DeskJockey('Ronan',\n",
    "                          'Citrus')]\n",
    "\n",
    "for j in desk_jockeys:\n",
    "    j.take_days_off({randint(1,30), randint(1,30), randint(1,30)})\n",
    "\n",
    "print('Start state:')\n",
    "print('Name\\tCounty\\tShift\\tDays off')\n",
    "for j in desk_jockeys:\n",
    "    print('%s\\t%s\\t%s\\t%s' % (j.name, j.county[:7], j.shift, j.days_off))\n",
    "\n",
    "print('\\n\\nApril Schedule:')\n",
    "for day in range(1, 30+1):\n",
    "    workpair = schedule_day(desk_jockeys, day)\n",
    "    if workpair is None:\n",
    "        print(\"NONE\")\n",
    "    else:\n",
    "        print(\"%s\\t%s\\t%s\" % (day, workpair[0], workpair[1]))\n",
    "\n",
    "print('\\nNumber of shifts worked:')\n",
    "print(', '.join('%s: %s' % (jockey.name, jockey.shifts_worked) for jockey in desk_jockeys))"
   ]
  },
  {
   "cell_type": "markdown",
   "metadata": {
    "ein.tags": [
     "worksheet-0"
    ]
   },
   "source": [
    "That'll do, pig."
   ]
  }
 ],
 "metadata": {
  "kernelspec": {
   "display_name": "Python 3",
   "name": "python3"
  },
  "language_info": {
   "codemirror_mode": {
    "name": "ipython",
    "version": 3
   },
   "file_extension": ".py",
   "mimetype": "text/x-python",
   "name": "python",
   "nbconvert_exporter": "python",
   "pygments_lexer": "ipython3",
   "version": "3.5.1"
  },
  "name": "C5Helpdesk.ipynb"
 },
 "nbformat": 4,
 "nbformat_minor": 0
}
